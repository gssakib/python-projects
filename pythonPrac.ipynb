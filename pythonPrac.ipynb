{
  "nbformat": 4,
  "nbformat_minor": 0,
  "metadata": {
    "colab": {
      "name": "pythonPrac.ipynb",
      "provenance": [],
      "collapsed_sections": [],
      "authorship_tag": "ABX9TyOZkMTmNMoEkIzgRMBAMBCf",
      "include_colab_link": true
    },
    "kernelspec": {
      "name": "python3",
      "display_name": "Python 3"
    },
    "language_info": {
      "name": "python"
    }
  },
  "cells": [
    {
      "cell_type": "markdown",
      "metadata": {
        "id": "view-in-github",
        "colab_type": "text"
      },
      "source": [
        "<a href=\"https://colab.research.google.com/github/gssakib/python-projects/blob/master/pythonPrac.ipynb\" target=\"_parent\"><img src=\"https://colab.research.google.com/assets/colab-badge.svg\" alt=\"Open In Colab\"/></a>"
      ]
    },
    {
      "cell_type": "code",
      "metadata": {
        "colab": {
          "base_uri": "https://localhost:8080/"
        },
        "id": "eyaZbb4MWenD",
        "outputId": "bf977215-3256-4c4b-9e21-f092e02e5dc3"
      },
      "source": [
        "def quicksort(arr):\n",
        "  if len(arr) <= 1:\n",
        "    return arr\n",
        "  pivot = arr[len(arr) // 2]\n",
        "  left = [x for x in arr if x < pivot]\n",
        "  middle = [x for x in arr if x == pivot]\n",
        "  right = [x for x in arr if x > pivot]\n",
        "  return quicksort(left) + middle + quicksort(right)\n",
        "\n",
        "print(quicksort([3,6,8,10,1,2,1]))"
      ],
      "execution_count": null,
      "outputs": [
        {
          "output_type": "stream",
          "name": "stdout",
          "text": [
            "[1, 1, 2, 3, 6, 8, 10]\n"
          ]
        }
      ]
    }
  ]
}